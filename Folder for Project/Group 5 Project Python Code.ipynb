{
 "cells": [
  {
   "cell_type": "code",
   "execution_count": 1,
   "id": "75351974",
   "metadata": {},
   "outputs": [
    {
     "name": "stdout",
     "output_type": "stream",
     "text": [
      "What is your crop? (Please note that this program assumes for loamy soil!)cabbage\n"
     ]
    },
    {
     "data": {
      "text/plain": [
       "'Your soil moisture is at 4.34%! The optimal soil moisture for this crop is 45%'"
      ]
     },
     "execution_count": 1,
     "metadata": {},
     "output_type": "execute_result"
    }
   ],
   "source": [
    "import csv\n",
    "import pandas as pd\n",
    "\n",
    "with open('newbookcsv.csv',\"r\")as f:\n",
    "    data=f.read()\n",
    "\n",
    "data = pd.read_csv('newbookcsv.csv', names = [\"Column 1\", \"Column 2\"])\n",
    "plant = input(\"What is your crop? (Please note that this program assumes for loamy soil!)\")\n",
    "plants = {\n",
    "    \"cabbage\":\"45\",\n",
    "    \"corn\":\"40\"\n",
    "}\n",
    "def moisturemeasurement(crop):\n",
    "    lowerbound = 439\n",
    "    upperbound = 489\n",
    "    counter1 = 0\n",
    "    counter = 1023\n",
    "    ave1_list = []\n",
    "    ave2_list = []\n",
    "    while(counter1<60):\n",
    "        col1_data = data['Column 1'][lowerbound:upperbound]\n",
    "        col2_data = data['Column 2'][lowerbound:upperbound]\n",
    "        ave1 = sum(col1_data)/51\n",
    "        ave2 = sum(col2_data)/51\n",
    "        ave1 = '%.2f' % ave1\n",
    "        ave2 = '%.2f' % ave2\n",
    "        ave1_list+=[ave1]\n",
    "        ave2_list+=[ave2]\n",
    "        lowerbound += 1025\n",
    "        upperbound += 1025\n",
    "        counter1 += 1\n",
    "    a1list = []\n",
    "    a2list = []\n",
    "    comblist = []\n",
    "    for i in ave1_list:\n",
    "        if float(i) in a1list:\n",
    "            continue  \n",
    "        else:\n",
    "            a1list += [float(i)]      \n",
    "    for i in ave2_list:\n",
    "        if float(i) in a2list:\n",
    "            continue  \n",
    "        else:\n",
    "            a2list += [float(i)]\n",
    "    comblist = a1list + a2list\n",
    "    combave = sum(comblist)/len(comblist)\n",
    "    formula1 = ((1.5*10**-12)*combave**5) - ((4.76*10**-9)*combave**4) + ((5.48*10**-6)*combave**3) - ((2.87*10**-3)*combave**2) + ((6.34 * 10**-1)*combave) + 1.95\n",
    "    formula1 = float('%.2f' % formula1)\n",
    "    moisture = formula1\n",
    "    if moisture < float(plants.get(plant)):\n",
    "        with open('output.txt', 'w') as f:\n",
    "            f.write('dry')\n",
    "        return(\"Your soil moisture is at \" + str(moisture) + \"%! The optimal soil moisture for this crop is \" + str(plants.get(plant)) + \"%\") \n",
    "    elif moisture < float(plants.get(plant)) * 1.05:\n",
    "        with open('output.txt', 'w') as f:\n",
    "            f.write('almost dry')\n",
    "        return(\"The soil is almost too dry\")\n",
    "    else:\n",
    "        with open('output.txt', 'w') as f:\n",
    "            f.write('optimal')\n",
    "        return(\"The soil is still optimal\")\n",
    "        \n",
    "moisturemeasurement(plant)\n"
   ]
  },
  {
   "cell_type": "code",
   "execution_count": null,
   "id": "63934277",
   "metadata": {},
   "outputs": [],
   "source": []
  }
 ],
 "metadata": {
  "kernelspec": {
   "display_name": "Python 3",
   "language": "python",
   "name": "python3"
  },
  "language_info": {
   "codemirror_mode": {
    "name": "ipython",
    "version": 3
   },
   "file_extension": ".py",
   "mimetype": "text/x-python",
   "name": "python",
   "nbconvert_exporter": "python",
   "pygments_lexer": "ipython3",
   "version": "3.8.8"
  }
 },
 "nbformat": 4,
 "nbformat_minor": 5
}
